{
 "cells": [
  {
   "cell_type": "code",
   "execution_count": 4,
   "metadata": {},
   "outputs": [
    {
     "data": {
      "text/plain": [
       "True"
      ]
     },
     "execution_count": 4,
     "metadata": {},
     "output_type": "execute_result"
    }
   ],
   "source": [
    "def is_empty(s):\n",
    "    return len(s) == 0\n",
    "\n",
    "is_empty(str())"
   ]
  },
  {
   "cell_type": "code",
   "execution_count": 15,
   "metadata": {},
   "outputs": [
    {
     "data": {
      "text/plain": [
       "[5, 6, 3, 9]"
      ]
     },
     "execution_count": 15,
     "metadata": {},
     "output_type": "execute_result"
    }
   ],
   "source": [
    "def empty_list(x):\n",
    "    return [i for i in x if i != []]\n",
    "\n",
    "empty_list([5, 6, [], 3, [], [], 9])"
   ]
  },
  {
   "cell_type": "code",
   "execution_count": 21,
   "metadata": {},
   "outputs": [
    {
     "data": {
      "text/plain": [
       "394.0"
      ]
     },
     "execution_count": 21,
     "metadata": {},
     "output_type": "execute_result"
    }
   ],
   "source": [
    "x_s = [600, 470, 170, 430, 300]\n",
    "import math\n",
    "# PROMEDIO  \n",
    "promedio = sum(x_s)/len(x_s)\n",
    "promedio"
   ]
  },
  {
   "cell_type": "code",
   "execution_count": 120,
   "metadata": {},
   "outputs": [],
   "source": [
    "# VARIANZA\n",
    "dif_sq = 0\n",
    "for i in x_s:\n",
    "    dif_sq += ((i - promedio) ** 2)\n",
    "varianza = dif_sq/len(x_s)"
   ]
  },
  {
   "cell_type": "code",
   "execution_count": 123,
   "metadata": {},
   "outputs": [
    {
     "data": {
      "text/plain": [
       "147.32277488562318"
      ]
     },
     "execution_count": 123,
     "metadata": {},
     "output_type": "execute_result"
    }
   ],
   "source": [
    "# Desv. Estandar\n",
    "desv_estandar = math.sqrt(varianza)\n",
    "desv_estandar"
   ]
  },
  {
   "cell_type": "code",
   "execution_count": 252,
   "metadata": {},
   "outputs": [
    {
     "data": {
      "text/plain": [
       "34"
      ]
     },
     "execution_count": 252,
     "metadata": {},
     "output_type": "execute_result"
    }
   ],
   "source": [
    "a1 = [1,2] + [4] + [9,8,6]\n",
    "a2 = sum([[1,2] + [4] + [9,8,6]],[])\n",
    "b1 = (2,4,5) + (6,) + (9,8,7)\n",
    "b2 = sum([(2,4,5) + (6,) + (9,8,7)], ())\n",
    "\n",
    "# Write a function which receives a non-empty list whose elements are either numbers, lists, or tuples\n",
    "# and adds them up (note, in each test all elements will be of the same type, so that adding is possible).\n",
    "# add_it_up([4, 14, 17, 10]) ➞ 4+14+17+10 ➞ 45\n",
    "# add_it_up([[1,2],[4],[9,8,6]]) ➞ [1,2]+[4]+[9,8,6] ➞ [1,2,4,9,8,6]\n",
    "# add_it_up([(2,4,5),(6,),(9,8,7)]) ➞ (2,4,5)+(6,)+(9,8,7) ➞ (2,4,5,6,9,8,7)\n",
    "\n",
    "def add_it_up(lst):\n",
    "    if len(lst) != 0:\n",
    "        new_lst = []\n",
    "        for i in lst:\n",
    "            new_lst.append(sum(i))\n",
    "        return sum(new_lst)\n",
    "    else:\n",
    "        return False\n",
    "add_it_up([(2,4,5), (6,), (9,8)])"
   ]
  },
  {
   "cell_type": "code",
   "execution_count": 277,
   "metadata": {},
   "outputs": [
    {
     "data": {
      "text/plain": [
       "5"
      ]
     },
     "execution_count": 277,
     "metadata": {},
     "output_type": "execute_result"
    }
   ],
   "source": [
    "def length(s):\n",
    "    if s:\n",
    "        return length(s[:-1]) + 1\n",
    "    return 0\n",
    "length('apple')"
   ]
  },
  {
   "cell_type": "code",
   "execution_count": 345,
   "metadata": {},
   "outputs": [
    {
     "name": "stdout",
     "output_type": "stream",
     "text": [
      "39\n",
      "39\n"
     ]
    }
   ],
   "source": [
    "def end_corona(recovers, new_cases, active_cases):\n",
    "    i = 1\n",
    "    ac = active_cases + new_cases - recovers\n",
    "    while ac > 0:\n",
    "        i += 1\n",
    "        ac += (new_cases - recovers) \n",
    "    else:\n",
    "        return math.ceil(i)\n",
    "\n",
    "def end_corona1(recovers, new_cases, active_cases):\n",
    "    return math.ceil(active_cases/(recovers - new_cases))\n",
    "    \n",
    "        \n",
    "print(end_corona(4000, 2000, 77000))\n",
    "print(end_corona1(4000, 2000, 77000))\n",
    "            "
   ]
  },
  {
   "cell_type": "code",
   "execution_count": 411,
   "metadata": {},
   "outputs": [
    {
     "data": {
      "text/plain": [
       "0"
      ]
     },
     "execution_count": 411,
     "metadata": {},
     "output_type": "execute_result"
    }
   ],
   "source": [
    "def cars_needed(n):\n",
    "    if n > 0:\n",
    "        return math.ceil(n/5)\n",
    "    else:\n",
    "        return 0\n",
    "      \n",
    "cars_needed(0)"
   ]
  },
  {
   "cell_type": "code",
   "execution_count": 427,
   "metadata": {},
   "outputs": [
    {
     "name": "stdout",
     "output_type": "stream",
     "text": [
      "[3, 7, 9, 10]\n",
      "[3, 7, 9, 10]\n"
     ]
    }
   ],
   "source": [
    "set1 = [9, 3, 9, 10, 10, 7, 7]\n",
    "\n",
    "set2 = list(set(set1))\n",
    "set2.sort()\n",
    "print(set2)\n",
    "\n",
    "set3 = []\n",
    "[set3.append(i) for i in set1 if i not in set3]\n",
    "set3.sort()\n",
    "print(set3)\n"
   ]
  },
  {
   "cell_type": "code",
   "execution_count": 494,
   "metadata": {},
   "outputs": [
    {
     "data": {
      "text/plain": [
       "0"
      ]
     },
     "execution_count": 494,
     "metadata": {},
     "output_type": "execute_result"
    }
   ],
   "source": [
    "# count_characters([\"###\", \"###\", \"###\"]) ----> 9\n",
    "def count_characters(lst):\n",
    "    if len(lst) > 0:\n",
    "        count = []\n",
    "        for i in lst:\n",
    "            count.append(len(i))\n",
    "        return sum(count)\n",
    "    else:\n",
    "        return 0\n",
    "count_characters([\"\",\"\"])\n"
   ]
  },
  {
   "cell_type": "code",
   "execution_count": 9,
   "metadata": {},
   "outputs": [
    {
     "ename": "TypeError",
     "evalue": "unsupported operand type(s) for +: 'int' and 'str'",
     "output_type": "error",
     "traceback": [
      "\u001b[1;31m---------------------------------------------------------------------------\u001b[0m",
      "\u001b[1;31mTypeError\u001b[0m                                 Traceback (most recent call last)",
      "\u001b[1;32m<ipython-input-9-49fa88e43c86>\u001b[0m in \u001b[0;36m<module>\u001b[1;34m\u001b[0m\n\u001b[0;32m      1\u001b[0m \u001b[1;32mdef\u001b[0m \u001b[0mcount_characters\u001b[0m\u001b[1;33m(\u001b[0m\u001b[0mlst\u001b[0m\u001b[1;33m)\u001b[0m\u001b[1;33m:\u001b[0m\u001b[1;33m\u001b[0m\u001b[1;33m\u001b[0m\u001b[0m\n\u001b[0;32m      2\u001b[0m     \u001b[1;32mreturn\u001b[0m \u001b[0msum\u001b[0m\u001b[1;33m(\u001b[0m\u001b[1;33m[\u001b[0m\u001b[0mi\u001b[0m \u001b[1;32mfor\u001b[0m \u001b[0mi\u001b[0m \u001b[1;32min\u001b[0m \u001b[0mlst\u001b[0m\u001b[1;33m]\u001b[0m\u001b[1;33m)\u001b[0m\u001b[1;33m\u001b[0m\u001b[1;33m\u001b[0m\u001b[0m\n\u001b[1;32m----> 3\u001b[1;33m \u001b[0mcount_characters\u001b[0m\u001b[1;33m(\u001b[0m\u001b[1;34m'hola'\u001b[0m\u001b[1;33m)\u001b[0m\u001b[1;33m\u001b[0m\u001b[1;33m\u001b[0m\u001b[0m\n\u001b[0m",
      "\u001b[1;32m<ipython-input-9-49fa88e43c86>\u001b[0m in \u001b[0;36mcount_characters\u001b[1;34m(lst)\u001b[0m\n\u001b[0;32m      1\u001b[0m \u001b[1;32mdef\u001b[0m \u001b[0mcount_characters\u001b[0m\u001b[1;33m(\u001b[0m\u001b[0mlst\u001b[0m\u001b[1;33m)\u001b[0m\u001b[1;33m:\u001b[0m\u001b[1;33m\u001b[0m\u001b[1;33m\u001b[0m\u001b[0m\n\u001b[1;32m----> 2\u001b[1;33m     \u001b[1;32mreturn\u001b[0m \u001b[0msum\u001b[0m\u001b[1;33m(\u001b[0m\u001b[1;33m[\u001b[0m\u001b[0mi\u001b[0m \u001b[1;32mfor\u001b[0m \u001b[0mi\u001b[0m \u001b[1;32min\u001b[0m \u001b[0mlst\u001b[0m\u001b[1;33m]\u001b[0m\u001b[1;33m)\u001b[0m\u001b[1;33m\u001b[0m\u001b[1;33m\u001b[0m\u001b[0m\n\u001b[0m\u001b[0;32m      3\u001b[0m \u001b[0mcount_characters\u001b[0m\u001b[1;33m(\u001b[0m\u001b[1;34m'hola'\u001b[0m\u001b[1;33m)\u001b[0m\u001b[1;33m\u001b[0m\u001b[1;33m\u001b[0m\u001b[0m\n",
      "\u001b[1;31mTypeError\u001b[0m: unsupported operand type(s) for +: 'int' and 'str'"
     ]
    }
   ],
   "source": [
    "def count_characters(lst):\n",
    "    return sum([i for i in lst])\n",
    "count_characters('hola')"
   ]
  },
  {
   "cell_type": "code",
   "execution_count": 509,
   "metadata": {},
   "outputs": [
    {
     "data": {
      "text/plain": [
       "362880"
      ]
     },
     "execution_count": 509,
     "metadata": {},
     "output_type": "execute_result"
    }
   ],
   "source": [
    "import math\n",
    "math.factorial(9)"
   ]
  },
  {
   "cell_type": "code",
   "execution_count": 50,
   "metadata": {},
   "outputs": [
    {
     "data": {
      "text/plain": [
       "6"
      ]
     },
     "execution_count": 50,
     "metadata": {},
     "output_type": "execute_result"
    }
   ],
   "source": [
    "def paths(n):\n",
    "    fact = 1\n",
    "    while (n > 1):\n",
    "        fact *= n\n",
    "        n -= 1              \n",
    "    return fact\n",
    "\n",
    "paths(3)\n",
    "    "
   ]
  },
  {
   "cell_type": "code",
   "execution_count": 1,
   "metadata": {},
   "outputs": [],
   "source": [
    "def count_vowels(txt):\n",
    "    vowels = ['a', 'e', 'i', 'o', 'u']\n",
    "    \n",
    "      \n",
    "# count_vowels(\"Celebration\") ➞ 5    "
   ]
  },
  {
   "cell_type": "code",
   "execution_count": 32,
   "metadata": {},
   "outputs": [
    {
     "data": {
      "text/plain": [
       "[1, 2]"
      ]
     },
     "execution_count": 32,
     "metadata": {},
     "output_type": "execute_result"
    }
   ],
   "source": [
    "def filter_list(lst):\n",
    "    L =[]\n",
    "    for i in lst:\n",
    "        if isinstance(i, int):\n",
    "            L.append(i)\n",
    "    return L               \n",
    "        \n",
    "filter_list([1, 2, \"a\", \"b\"])"
   ]
  },
  {
   "cell_type": "code",
   "execution_count": 53,
   "metadata": {},
   "outputs": [
    {
     "data": {
      "text/plain": [
       "0.5"
      ]
     },
     "execution_count": 53,
     "metadata": {},
     "output_type": "execute_result"
    }
   ],
   "source": [
    "import math\n",
    "def weight(r, h):\n",
    "    area = math.pi * math.pow(r,2) \n",
    "    calculation = ((area * h)/1000)\n",
    "    return round(calculation, 2)\n",
    "\n",
    "weight(4, 10)"
   ]
  },
  {
   "cell_type": "code",
   "execution_count": 1,
   "metadata": {},
   "outputs": [
    {
     "data": {
      "text/plain": [
       "array([7])"
      ]
     },
     "execution_count": 1,
     "metadata": {},
     "output_type": "execute_result"
    }
   ],
   "source": [
    "import numpy as np\n",
    "def list_operation(x, y, n):\n",
    "    return np.arange(x,y,n) \n",
    "    \n",
    "    \n",
    "    \n",
    "    \n",
    "list_operation(7, 9, 2)\n",
    "\n",
    "#list_operation(15, 20, 7) ➞ []    "
   ]
  },
  {
   "cell_type": "code",
   "execution_count": 9,
   "metadata": {},
   "outputs": [
    {
     "data": {
      "text/plain": [
       "5"
      ]
     },
     "execution_count": 9,
     "metadata": {},
     "output_type": "execute_result"
    }
   ],
   "source": [
    "def count_vowels(txt):\n",
    "    vow = ['a', 'e', 'i', 'o', 'u']\n",
    "    return sum(txt.count(i) for i in vow)\n",
    "\n",
    "#def countVowels(string):\n",
    "#  vowels = ['a','e','i','o','u']\n",
    "#  total = 0\n",
    "#  for i in string:\n",
    "#     if i in vowels:\n",
    "#         total += 1\n",
    "#   return total\n",
    "\n",
    "def count_vowels(txt):\n",
    "  return sum([1 for i in txt.lower() if i in 'aeiou'])\n",
    "    \n",
    "count_vowels(\"Celebration\")     \n"
   ]
  },
  {
   "cell_type": "code",
   "execution_count": 105,
   "metadata": {},
   "outputs": [
    {
     "data": {
      "text/plain": [
       "'HHeelllloo  WWoorrlldd!!'"
      ]
     },
     "execution_count": 105,
     "metadata": {},
     "output_type": "execute_result"
    }
   ],
   "source": [
    "def double_char(txt):\n",
    "    return ''.join(i*2 for i in txt)\n",
    "        \n",
    "double_char(\"Hello World!\")"
   ]
  },
  {
   "cell_type": "code",
   "execution_count": 113,
   "metadata": {},
   "outputs": [
    {
     "data": {
      "text/plain": [
       "'No list has been selected'"
      ]
     },
     "execution_count": 113,
     "metadata": {},
     "output_type": "execute_result"
    }
   ],
   "source": [
    "def next_in_line(lst, num):\n",
    "    if len(lst) != 0:\n",
    "        lst.pop(0)\n",
    "        lst.append(num)\n",
    "        return lst            \n",
    "    else:\n",
    "        return 'No list has been selected'\n",
    "next_in_line([], 6)\n",
    "\n",
    "#next_in_line([], 6) ➞ \"No list has been selected\"\n",
    "\n",
    "    "
   ]
  },
  {
   "cell_type": "code",
   "execution_count": 64,
   "metadata": {},
   "outputs": [
    {
     "data": {
      "text/plain": [
       "6"
      ]
     },
     "execution_count": 64,
     "metadata": {},
     "output_type": "execute_result"
    }
   ],
   "source": [
    "def sum_numbers(n):\n",
    "    if n <= 1:\n",
    "        return n\n",
    "    return n + sum_numbers(n-1)\n",
    "        \n",
    "sum_numbers(3)\n",
    "    \n"
   ]
  },
  {
   "cell_type": "code",
   "execution_count": 66,
   "metadata": {},
   "outputs": [
    {
     "data": {
      "text/plain": [
       "False"
      ]
     },
     "execution_count": 66,
     "metadata": {},
     "output_type": "execute_result"
    }
   ],
   "source": [
    "def correct_signs(txt):\n",
    "    return eval(txt)\n",
    "\n",
    "correct_signs(\"13 > 44 > 33 > 1\")"
   ]
  },
  {
   "cell_type": "code",
   "execution_count": 98,
   "metadata": {},
   "outputs": [
    {
     "data": {
      "text/plain": [
       "'Luke, I am your father.'"
      ]
     },
     "execution_count": 98,
     "metadata": {},
     "output_type": "execute_result"
    }
   ],
   "source": [
    "def relation_to_luke(name):\n",
    "    family = {'Darth Vader': 'father','Leia':'sister','Han':'brother in law','R2D2':'droid'}\n",
    "    if name in family.keys():\n",
    "        return \"Luke, I am your {}.\".format(family[name])\n",
    "            \n",
    "\n",
    "relation_to_luke('Darth Vader')\n"
   ]
  },
  {
   "cell_type": "code",
   "execution_count": 6,
   "metadata": {},
   "outputs": [
    {
     "data": {
      "text/plain": [
       "8"
      ]
     },
     "execution_count": 6,
     "metadata": {},
     "output_type": "execute_result"
    }
   ],
   "source": [
    "def count_ones(num):\n",
    "    return bin(num).count('1')\n",
    "\n",
    "count_ones(999)\n",
    "\n",
    "def count_ones(num):\n",
    "    return sum([1 for i in bin(num) if i == '1'])\n",
    "count_ones(999)"
   ]
  },
  {
   "cell_type": "code",
   "execution_count": 9,
   "metadata": {},
   "outputs": [
    {
     "data": {
      "text/plain": [
       "12.57"
      ]
     },
     "execution_count": 9,
     "metadata": {},
     "output_type": "execute_result"
    }
   ],
   "source": [
    "import math\n",
    "def cone_volume(h, r):\n",
    "    return round(math.pi*math.pow(r,2)*h/3,2) if r > 0 else 0\n",
    "\n",
    "cone_volume(3, 2)"
   ]
  },
  {
   "cell_type": "code",
   "execution_count": 50,
   "metadata": {},
   "outputs": [
    {
     "data": {
      "text/plain": [
       "True"
      ]
     },
     "execution_count": 50,
     "metadata": {},
     "output_type": "execute_result"
    }
   ],
   "source": [
    "def XO(txt):\n",
    "    if txt.lower().count('x') == txt.lower().count('o'):\n",
    "        return True\n",
    "    elif txt.lower().count('x') != txt.lower().count('o'):\n",
    "        return False\n",
    "    elif 'xo' not in txt.lower():\n",
    "        return True\n",
    "    else:\n",
    "        False\n",
    "    \n",
    "    \n",
    "XO(\"ooxx\")\n",
    "\n",
    "#XO(\"xooxx\")\n",
    "\n",
    "#XO(\"ooxXm\")\n",
    "# Case insensitive.\n",
    "\n",
    "#XO(\"zpzpzpp\")\n",
    "# Returns True if no x and o.\n",
    "\n",
    "#XO(\"zzoo\")"
   ]
  },
  {
   "cell_type": "code",
   "execution_count": 55,
   "metadata": {},
   "outputs": [
    {
     "data": {
      "text/plain": [
       "True"
      ]
     },
     "execution_count": 55,
     "metadata": {},
     "output_type": "execute_result"
    }
   ],
   "source": [
    "def XO(text):\n",
    "    return text.lower().count('x') == text.lower().count('o')\n",
    "XO(\"ooxXm\")"
   ]
  },
  {
   "cell_type": "code",
   "execution_count": 90,
   "metadata": {},
   "outputs": [
    {
     "data": {
      "text/plain": [
       "[1, 2, 3, 4]"
      ]
     },
     "execution_count": 90,
     "metadata": {},
     "output_type": "execute_result"
    }
   ],
   "source": [
    "def unique_sort(lst):\n",
    "    return sorted(set(lst))\n",
    "          \n",
    "    \n",
    "unique_sort([1, 2, 4, 3])\n",
    "\n",
    "#unique_sort([1, 4, 4, 4, 4, 4, 3, 2, 1, 2]) ➞ [1, 2, 3, 4]\n",
    "\n",
    "#unique_sort([6, 7, 3, 2, 1]) ➞ [1, 2, 3, 6, 7]"
   ]
  },
  {
   "cell_type": "code",
   "execution_count": 115,
   "metadata": {},
   "outputs": [
    {
     "data": {
      "text/plain": [
       "6"
      ]
     },
     "execution_count": 115,
     "metadata": {},
     "output_type": "execute_result"
    }
   ],
   "source": [
    "def factorial(n):\n",
    "    return 1 if n==1 or n==0 else n*factorial(n-1)\n",
    "S\n",
    "def factorial(n):\n",
    "    if n == 0 or n == 1: \n",
    "        return 1\n",
    "    else: \n",
    "        fact = 1\n",
    "        while(n > 1): \n",
    "            fact *= n \n",
    "            n -= 1\n",
    "        return fact \n",
    "\n",
    "factorial(3)\n"
   ]
  },
  {
   "cell_type": "code",
   "execution_count": 94,
   "metadata": {},
   "outputs": [
    {
     "data": {
      "text/plain": [
       "[-1]"
      ]
     },
     "execution_count": 94,
     "metadata": {},
     "output_type": "execute_result"
    }
   ],
   "source": [
    "def find_odd(lst):\n",
    "    #for i in lst:\n",
    "   #     if lst.count(i)%2 == 1:\n",
    "    #        return i\n",
    "        \n",
    "    return [i for i in lst if lst.count(i)%2 == 1]\n",
    "    \n",
    "find_odd([1, 1, 2, -2, 5, 2, 4, 4, -1, -2, 5])\n"
   ]
  },
  {
   "cell_type": "code",
   "execution_count": 170,
   "metadata": {
    "scrolled": true
   },
   "outputs": [
    {
     "data": {
      "text/plain": [
       "'Today, I am feeling neutral'"
      ]
     },
     "execution_count": 170,
     "metadata": {},
     "output_type": "execute_result"
    }
   ],
   "source": [
    "def mood_today(mood='neutral'):\n",
    "    if mood:\n",
    "        return \"Today, I am feeling {}\".format(mood)\n",
    "    else:\n",
    "        return \"Today, I am feeling \" + mood\n",
    "        \n",
    "mood_today()"
   ]
  },
  {
   "cell_type": "code",
   "execution_count": 41,
   "metadata": {},
   "outputs": [
    {
     "data": {
      "text/plain": [
       "[7]"
      ]
     },
     "execution_count": 41,
     "metadata": {},
     "output_type": "execute_result"
    }
   ],
   "source": [
    "def missing_num(lst):\n",
    "    return [i for i in range(1,11) if i not in lst]\n",
    "missing_num([10, 5, 1, 2, 4, 6, 8, 3, 9])"
   ]
  },
  {
   "cell_type": "code",
   "execution_count": 50,
   "metadata": {},
   "outputs": [
    {
     "data": {
      "text/plain": [
       "5"
      ]
     },
     "execution_count": 50,
     "metadata": {},
     "output_type": "execute_result"
    }
   ],
   "source": [
    "def missing_num(lst):\n",
    "    lista = np.arange(1,11)\n",
    "    for i in lista:\n",
    "        if i not in lst:\n",
    "            return i\n",
    "missing_num([1, 2, 3, 4, 6, 7, 8, 9, 10])"
   ]
  },
  {
   "cell_type": "code",
   "execution_count": 55,
   "metadata": {},
   "outputs": [
    {
     "data": {
      "text/plain": [
       "18"
      ]
     },
     "execution_count": 55,
     "metadata": {},
     "output_type": "execute_result"
    }
   ],
   "source": [
    "#def evenly_divisible(a, b, c):\n",
    "  #  lista = []\n",
    " #   for i in range(a,b+1):\n",
    "  #      if i%c == 0:\n",
    "   #         lista.append(i)\n",
    "    #return sum(lista)\n",
    "\n",
    "def evenly_divisible(a, b, c):\n",
    "    return sum(i for i in range(a, b+1) if not i%c)\n",
    "\n",
    "evenly_divisible(1, 10, 3)"
   ]
  },
  {
   "cell_type": "code",
   "execution_count": 67,
   "metadata": {},
   "outputs": [
    {
     "data": {
      "text/plain": [
       "'ehllo'"
      ]
     },
     "execution_count": 67,
     "metadata": {},
     "output_type": "execute_result"
    }
   ],
   "source": [
    "def alphabet_soup(txt):\n",
    "    return ''.join(sorted(txt))\n",
    "\n",
    "alphabet_soup(\"hello\")"
   ]
  },
  {
   "cell_type": "code",
   "execution_count": 12,
   "metadata": {},
   "outputs": [
    {
     "data": {
      "text/plain": [
       "'CHLN'"
      ]
     },
     "execution_count": 12,
     "metadata": {},
     "output_type": "execute_result"
    }
   ],
   "source": [
    "def society_name(friends):\n",
    "    letter = []\n",
    "    for i in friends:\n",
    "        letter.append(i[0])\n",
    "    return ''.join(sorted(letter))\n",
    "\n",
    "society_name([\"Harry\", \"Newt\", \"Luna\", \"Cho\"])\n",
    "\n",
    "def society_name(friends):\n",
    "\treturn ''.join(sorted(i[0] for i in friends))"
   ]
  },
  {
   "cell_type": "code",
   "execution_count": 70,
   "metadata": {},
   "outputs": [
    {
     "data": {
      "text/plain": [
       "'20191211'"
      ]
     },
     "execution_count": 70,
     "metadata": {},
     "output_type": "execute_result"
    }
   ],
   "source": [
    "def format_date(date):\n",
    "    date = date.split('/')\n",
    "    date.reverse()\n",
    "    return ''.join(date)\n",
    "format_date(\"11/12/2019\")\n",
    "\n",
    "def format_date(date):\n",
    "    d = date.split(\"/\")\n",
    "    return \"{}{}{}\".format(d[2],d[1],d[0])\n",
    "\n",
    "def format_date(date):\n",
    "\tm, d, y = date.split('/')\n",
    "\treturn ''.join((y, d, m))\n",
    "    "
   ]
  },
  {
   "cell_type": "code",
   "execution_count": null,
   "metadata": {},
   "outputs": [],
   "source": [
    "\n",
    "time_for_milk_and_cookies(datetime.date(2013, 12, 24)) ➞ True\n"
   ]
  },
  {
   "cell_type": "code",
   "execution_count": 134,
   "metadata": {},
   "outputs": [
    {
     "data": {
      "text/plain": [
       "False"
      ]
     },
     "execution_count": 134,
     "metadata": {},
     "output_type": "execute_result"
    }
   ],
   "source": [
    "import datetime\n",
    "def time_for_milk_and_cookies(date):\n",
    "    return True if date.month == 12 and date.day == 24 else False\n",
    "    #return (date.day==24 and date.month==11)\n",
    "    \n",
    "    \n",
    "time_for_milk_and_cookies(datetime.date(2013, 12, 23))"
   ]
  },
  {
   "cell_type": "code",
   "execution_count": 135,
   "metadata": {},
   "outputs": [
    {
     "ename": "TypeError",
     "evalue": "function missing required argument 'year' (pos 1)",
     "output_type": "error",
     "traceback": [
      "\u001b[1;31m---------------------------------------------------------------------------\u001b[0m",
      "\u001b[1;31mTypeError\u001b[0m                                 Traceback (most recent call last)",
      "\u001b[1;32m<ipython-input-135-afe6cdf282ef>\u001b[0m in \u001b[0;36m<module>\u001b[1;34m\u001b[0m\n\u001b[1;32m----> 1\u001b[1;33m \u001b[0ma\u001b[0m \u001b[1;33m=\u001b[0m \u001b[0mdatetime\u001b[0m\u001b[1;33m.\u001b[0m\u001b[0mdate\u001b[0m\u001b[1;33m(\u001b[0m\u001b[0mmonth\u001b[0m\u001b[1;33m=\u001b[0m\u001b[1;36m12\u001b[0m\u001b[1;33m,\u001b[0m \u001b[0mday\u001b[0m\u001b[1;33m=\u001b[0m\u001b[1;36m11\u001b[0m\u001b[1;33m)\u001b[0m\u001b[1;33m\u001b[0m\u001b[1;33m\u001b[0m\u001b[0m\n\u001b[0m\u001b[0;32m      2\u001b[0m \u001b[0mprint\u001b[0m\u001b[1;33m(\u001b[0m\u001b[0mint\u001b[0m\u001b[1;33m(\u001b[0m\u001b[0ma\u001b[0m\u001b[1;33m.\u001b[0m\u001b[0mstrftime\u001b[0m\u001b[1;33m(\u001b[0m\u001b[1;34m'%m%d'\u001b[0m\u001b[1;33m)\u001b[0m\u001b[1;33m)\u001b[0m\u001b[1;33m)\u001b[0m\u001b[1;33m\u001b[0m\u001b[1;33m\u001b[0m\u001b[0m\n",
      "\u001b[1;31mTypeError\u001b[0m: function missing required argument 'year' (pos 1)"
     ]
    }
   ],
   "source": [
    "a = datetime.date(month=12, day=11)\n"
   ]
  },
  {
   "cell_type": "code",
   "execution_count": 8,
   "metadata": {},
   "outputs": [
    {
     "data": {
      "text/plain": [
       "[0, 1729]"
      ]
     },
     "execution_count": 8,
     "metadata": {},
     "output_type": "execute_result"
    }
   ],
   "source": [
    "def filter_list(l):\n",
    "    return [i for i in l if type(i) == int]\n",
    "\n",
    "filter_list([\"A\", 0, \"Edabit\", 1729, \"Python\", \"1729\"])\n",
    "\n",
    "#filter_list([\"A\", 0, \"Edabit\", 1729, \"Python\", \"1729\"]) ➞ [0, 1729]\n",
    "    \n",
    "    \n"
   ]
  },
  {
   "cell_type": "code",
   "execution_count": 22,
   "metadata": {},
   "outputs": [
    {
     "data": {
      "text/plain": [
       "['Becky', 'John', 'Steve']"
      ]
     },
     "execution_count": 22,
     "metadata": {},
     "output_type": "execute_result"
    }
   ],
   "source": [
    "def get_student_names(students):\n",
    "    return sorted(students.values())\n",
    "\n",
    "get_student_names({\"Student 1\" : \"Steve\",\"Student 2\" : \"Becky\",\"Student 3\" : \"John\"})"
   ]
  },
  {
   "cell_type": "code",
   "execution_count": 26,
   "metadata": {},
   "outputs": [
    {
     "name": "stdout",
     "output_type": "stream",
     "text": [
      "1 [2, 3, 4, 5] 6\n"
     ]
    }
   ],
   "source": [
    "a, *other, c = [1, 2, 3, 4, 5, 6]\n",
    "print(a,other,c) "
   ]
  },
  {
   "cell_type": "code",
   "execution_count": 46,
   "metadata": {},
   "outputs": [
    {
     "data": {
      "text/plain": [
       "True"
      ]
     },
     "execution_count": 46,
     "metadata": {},
     "output_type": "execute_result"
    }
   ],
   "source": [
    "def is_triplet(n1, n2, n3):\n",
    "    a,b,c = sorted([n1,n2,n3])\n",
    "    return pow(a,2) + pow(b,2) == pow(c,2) \n",
    "  \n",
    "\n",
    "is_triplet(13, 5, 12)"
   ]
  },
  {
   "cell_type": "code",
   "execution_count": 94,
   "metadata": {},
   "outputs": [
    {
     "data": {
      "text/plain": [
       "['Adam', 'Tanya']"
      ]
     },
     "execution_count": 94,
     "metadata": {},
     "output_type": "execute_result"
    }
   ],
   "source": [
    "def remove_enemies(names, enemies):\n",
    "    return[i for i in names if i not in enemies]\n",
    "remove_enemies([\"Fred\"], [])\n",
    "\n",
    "#remove_enemies([\"Adam\", \"Emmy\", \"Tanya\", \"Emmy\"], [\"Emmy\"]) ➞ [\"Adam\", \"Tanya\"]\n",
    "\n",
    "#remove_enemies([\"John\", \"Emily\", \"Steve\", \"Sam\"], [\"Sam\", \"John\"]) ➞ [\"Emily\", \"Steve\"]"
   ]
  },
  {
   "cell_type": "code",
   "execution_count": 37,
   "metadata": {},
   "outputs": [
    {
     "data": {
      "text/plain": [
       "'28.2%'"
      ]
     },
     "execution_count": 37,
     "metadata": {},
     "output_type": "execute_result"
    }
   ],
   "source": [
    "def profit_margin(cost_price, sales_price):\n",
    "    return '{:.1f}%'.format(((-cost_price/sales_price) + 1) * 100)\n",
    "    \n",
    "    #return str(round((sales_price - cost_price) / sales_price*100,1))+'%'\n",
    "    \n",
    "profit_margin(50, 50)\n",
    "\n",
    "profit_margin(28, 39) \n",
    "\n",
    "#profit_margin(33, 84) ➞ \"60.7%\""
   ]
  },
  {
   "cell_type": "code",
   "execution_count": 39,
   "metadata": {},
   "outputs": [
    {
     "data": {
      "text/plain": [
       "18193.97"
      ]
     },
     "execution_count": 39,
     "metadata": {},
     "output_type": "execute_result"
    }
   ],
   "source": [
    "def compound_interest(p, t, r, n):\n",
    "    return round(p * (1+r/n)**(n*t),2)\n",
    "compound_interest(10000, 10, 0.06, 12)"
   ]
  },
  {
   "cell_type": "code",
   "execution_count": 46,
   "metadata": {},
   "outputs": [
    {
     "data": {
      "text/plain": [
       "False"
      ]
     },
     "execution_count": 46,
     "metadata": {},
     "output_type": "execute_result"
    }
   ],
   "source": [
    "def oddOrEven(word):\n",
    "    return len(word)%2 == 0\n",
    "\n",
    "oddOrEven(\"pears\")\n",
    "\n",
    "#oddOrEven(\"pears\") ➞ 'False'\n",
    "\n",
    "#oddOrEven(\"cherry\") ➞ 'True'"
   ]
  },
  {
   "cell_type": "code",
   "execution_count": 3,
   "metadata": {},
   "outputs": [
    {
     "data": {
      "text/plain": [
       "[[7, 8, 9], [12, 13, 14], [17, 18, 19], [22, 23, 24], [27, 28, 29]]"
      ]
     },
     "execution_count": 3,
     "metadata": {},
     "output_type": "execute_result"
    }
   ],
   "source": [
    "def peel_layer_off(lst):\n",
    "    b = []\n",
    "    for i in lst:\n",
    "        b.append(i[1:-1])\n",
    "    b.pop(0)\n",
    "    b.pop(-1)\n",
    "    return b\n",
    "    \n",
    "    #\treturn [i[1:-1] for i in lst[1:-1]]\n",
    "\n",
    "    \n",
    "peel_layer_off([\n",
    "  [1, 2, 3, 4, 5],\n",
    "  [6, 7, 8, 9, 10],\n",
    "  [11, 12, 13, 14, 15],\n",
    "  [16, 17, 18, 19, 20],\n",
    "  [21, 22, 23, 24, 25],\n",
    "  [26, 27, 28, 29, 30],\n",
    "  [31, 32, 33, 34, 35]\n",
    "])"
   ]
  },
  {
   "cell_type": "code",
   "execution_count": 1,
   "metadata": {},
   "outputs": [
    {
     "name": "stdout",
     "output_type": "stream",
     "text": [
      "[[7, 8, 9], [12, 13, 14], [17, 18, 19], [22, 23, 24], [27, 28, 29]]\n"
     ]
    }
   ],
   "source": [
    "a = [\n",
    "  [1, 2, 3, 4, 5],\n",
    "  [6, 7, 8, 9, 10],\n",
    "  [11, 12, 13, 14, 15],\n",
    "  [16, 17, 18, 19, 20],\n",
    "  [21, 22, 23, 24, 25],\n",
    "  [26, 27, 28, 29, 30],\n",
    "  [31, 32, 33, 34, 35]\n",
    "]\n",
    "\n",
    "print(list(i[1:-1] for i in a[1:-1]))"
   ]
  },
  {
   "cell_type": "code",
   "execution_count": 56,
   "metadata": {},
   "outputs": [
    {
     "data": {
      "text/plain": [
       "2.283"
      ]
     },
     "execution_count": 56,
     "metadata": {},
     "output_type": "execute_result"
    }
   ],
   "source": [
    "def harmonic(n):\n",
    "    return round(sum(1/i for i in range(1,n+1)),3)\n",
    "    \n",
    "    num_harmonic = 0\n",
    "    for i in range(1,n+1):\n",
    "        num_harmonic += 1/i\n",
    "    return round(num_harmonic,3)\n",
    "    # harmonic=lambda n:round(sum(1/(x+1)for x in range(n)),3)\n",
    "\n",
    "#harmonic(3)\n",
    "\n",
    "#harmonic(1) ➞ 1.0\n",
    "\n",
    "harmonic(5)# ➞ 2.283"
   ]
  },
  {
   "cell_type": "code",
   "execution_count": 134,
   "metadata": {},
   "outputs": [
    {
     "data": {
      "text/plain": [
       "['a', 'bb', 'ccc', 'dddd']"
      ]
     },
     "execution_count": 134,
     "metadata": {},
     "output_type": "execute_result"
    }
   ],
   "source": [
    "def sort_by_length(lst):\n",
    "    lst.sort(key=len)\n",
    "    return lst\n",
    "    \n",
    "    return sorted(lst, key=len)\n",
    "sort_by_length([\"a\", \"ccc\", \"dddd\", \"bb\"]) # ➞ [\"a\", \"bb\", \"ccc\", \"dddd\"]"
   ]
  },
  {
   "cell_type": "code",
   "execution_count": 160,
   "metadata": {},
   "outputs": [
    {
     "data": {
      "text/plain": [
       "'------++0'"
      ]
     },
     "execution_count": 160,
     "metadata": {},
     "output_type": "execute_result"
    }
   ],
   "source": [
    "def neutralise(s1, s2):\n",
    "    s1 = list(s1)\n",
    "    s2 = list(s2)\n",
    "    lst = []\n",
    "    for i,j in zip(s1,s2):\n",
    "        if i == j and i == '+':\n",
    "            lst.append('+')\n",
    "        if i == j and i == '-':\n",
    "            lst.append('-')\n",
    "        if i != j:\n",
    "            lst.append('0')\n",
    "    return ''.join(lst)\n",
    "\n",
    "def neutralise(s1, s2):\n",
    "    return ''.join(a if a == b else '0' for a, b in zip(s1, s2)\n",
    "    \n",
    "#neutralise(\"--++--\", \"++--++\") #➞ \"000000\"\n",
    "\n",
    "#neutralise(\"-+-+-+\", \"-+-+-+\") #➞ \"-+-+-+\"\n",
    "\n",
    "neutralise(\"------++-\", \"------+++\") #➞ \"-+00"
   ]
  },
  {
   "cell_type": "code",
   "execution_count": 140,
   "metadata": {},
   "outputs": [
    {
     "data": {
      "text/plain": [
       "True"
      ]
     },
     "execution_count": 140,
     "metadata": {},
     "output_type": "execute_result"
    }
   ],
   "source": [
    "def is_equal(lst):\n",
    "    return sum(map(int,(d for d in str(lst[0])))) == sum(map(int,(d for d in str(lst[1]))))\n",
    "\n",
    "is_equal([105, 42])"
   ]
  },
  {
   "cell_type": "code",
   "execution_count": null,
   "metadata": {},
   "outputs": [],
   "source": [
    "def word_builder(ltr, pos):\n",
    "word_builder([\"e\", \"t\", \"s\", \"t\"], [3, 0, 2, 1]) ➞ \"test\"\n",
    "\n",
    "word_builder([\"b\", \"e\", \"t\", \"i\", \"d\", \"a\"], [1, 4, 5, 0, 3, 2]) ➞ \"edabit\""
   ]
  },
  {
   "cell_type": "code",
   "execution_count": 164,
   "metadata": {},
   "outputs": [
    {
     "name": "stdout",
     "output_type": "stream",
     "text": [
      "['t', 't', 's', 'e']\n"
     ]
    }
   ],
   "source": [
    "a = [\"e\", \"t\", \"s\", \"t\"]\n",
    "b = [3, 0, 2, 1]\n",
    "\n",
    "\n",
    "    "
   ]
  },
  {
   "cell_type": "code",
   "execution_count": 37,
   "metadata": {},
   "outputs": [
    {
     "data": {
      "text/plain": [
       "'boolean not expected'"
      ]
     },
     "execution_count": 37,
     "metadata": {},
     "output_type": "execute_result"
    }
   ],
   "source": [
    "def reverse(arg):\n",
    "    return not arg if type(arg) == bool else \"boolean not expected\"\n",
    "\n",
    "        \n",
    "\n",
    "reverse(False) ➞ True\n",
    "\n",
    "#reverse(0) ➞ \"boolean expected\""
   ]
  },
  {
   "cell_type": "code",
   "execution_count": 78,
   "metadata": {},
   "outputs": [
    {
     "data": {
      "text/plain": [
       "2"
      ]
     },
     "execution_count": 78,
     "metadata": {},
     "output_type": "execute_result"
    }
   ],
   "source": [
    "def find_bob(names):\n",
    "    return names.index('Bob') if 'Bob' in names else -1\n",
    "#  return map(int,(names.index(i) for i in names if i == 'Bob'))    \n",
    "     \n",
    "find_bob([\"Jimmy\", \"Layla\", \"Bob\"])\n",
    "\n",
    "#find_bob([\"Bob\", \"Layla\", \"Kaitlyn\", \"Patricia\"]) ➞ 0\n",
    "\n",
    "#find_bob([\"Jimmy\", \"Layla\", \"James\"]) ➞ -1"
   ]
  },
  {
   "cell_type": "code",
   "execution_count": 2,
   "metadata": {},
   "outputs": [
    {
     "data": {
      "text/plain": [
       "21.0"
      ]
     },
     "execution_count": 2,
     "metadata": {},
     "output_type": "execute_result"
    }
   ],
   "source": [
    "def triangle(n):\n",
    "    return n*(n+1)/2\n",
    "triangle(6) "
   ]
  },
  {
   "cell_type": "code",
   "execution_count": 16,
   "metadata": {},
   "outputs": [
    {
     "data": {
      "text/plain": [
       "97"
      ]
     },
     "execution_count": 16,
     "metadata": {},
     "output_type": "execute_result"
    }
   ],
   "source": [
    "def counterpartCharCode(char):\n",
    "    return ord(char.upper()) if char.islower() else ord(char.lower()) \n",
    "\n",
    "counterpartCharCode(\"A\")\n",
    "\n",
    "counterpartCharCode(\"A\") ➞ 97\n",
    "\n",
    "counterpartCharCode(\"a\") ➞ 65"
   ]
  },
  {
   "cell_type": "code",
   "execution_count": 31,
   "metadata": {},
   "outputs": [
    {
     "data": {
      "text/plain": [
       "{'p': 'P', 's': 'S'}"
      ]
     },
     "execution_count": 31,
     "metadata": {},
     "output_type": "execute_result"
    }
   ],
   "source": [
    "def mapping(letters):\n",
    "    empty = {}\n",
    "    for i in letters:\n",
    "        empty[i] = i.upper()\n",
    "    return empty\n",
    "mapping([\"p\", \"s\"])\n",
    "\n",
    "#  {i:i.upper() for i in letters}"
   ]
  },
  {
   "cell_type": "code",
   "execution_count": 4,
   "metadata": {},
   "outputs": [
    {
     "data": {
      "text/plain": [
       "True"
      ]
     },
     "execution_count": 4,
     "metadata": {},
     "output_type": "execute_result"
    }
   ],
   "source": [
    "def is_symmetrical(num):\n",
    "    lst = []\n",
    "    for i in str(num):\n",
    "        lst.append(i)\n",
    "    return int(''.join(reversed(lst))) == num\n",
    "# num == int(str(num)[::-1])\n",
    "is_symmetrical(7227) "
   ]
  },
  {
   "cell_type": "code",
   "execution_count": 21,
   "metadata": {},
   "outputs": [
    {
     "data": {
      "text/plain": [
       "'Trump Donald'"
      ]
     },
     "execution_count": 21,
     "metadata": {},
     "output_type": "execute_result"
    }
   ],
   "source": [
    "def name_shuffle(txt):\n",
    "    name = txt.split(' ')\n",
    "    return '{} {}'.format(name[1], name[0])\n",
    "        \n",
    "    \n",
    "#  return ' '.join(reversed(str.split(' ')))\n",
    "#  return \" \".join(txt.split()[::-1])\n",
    "name_shuffle(\"Donald Trump\")"
   ]
  },
  {
   "cell_type": "code",
   "execution_count": 76,
   "metadata": {},
   "outputs": [
    {
     "data": {
      "text/plain": [
       "['EdaBit', 1, 2, 'Eda', 4, 'Bit', 'Eda', 7, 8, 'Eda', 'Bit']"
      ]
     },
     "execution_count": 76,
     "metadata": {},
     "output_type": "execute_result"
    }
   ],
   "source": [
    "def eda_bit(start, end):\n",
    "    j = lambda start,end:['Eda'*(i%3==0)+'Bit'*(i%5==0) or i or 'EdaBit'*(i==0) for i in range(start,end+1)]\n",
    "    return j(start,end)\n",
    "\n",
    "# return [\"EdaBit\" if x%15==0 else \"Bit\" if x%5==0 else \"Eda\" if x%3==0 else x for x in range(start, end+1)]\n",
    "eda_bit(0, 10) \n",
    "    "
   ]
  },
  {
   "cell_type": "code",
   "execution_count": 77,
   "metadata": {},
   "outputs": [
    {
     "data": {
      "text/plain": [
       "['EdaBit', 1, 2, 'Eda', 4, 'Bit', 'Eda', 7, 8, 'Eda', 'Bit']"
      ]
     },
     "execution_count": 77,
     "metadata": {},
     "output_type": "execute_result"
    }
   ],
   "source": [
    "def eda_bit(start, end):\n",
    "    lst = []\n",
    "    for x in range(start, end+1):\n",
    "        if x%3 == 0 and x%5 == 0: lst.append('EdaBit')\n",
    "        elif x%3 == 0: lst.append('Eda')\n",
    "        elif x%5 == 0: lst.append('Bit')\n",
    "        else: lst.append(x)\n",
    "    return lst\n",
    "eda_bit(0, 10)"
   ]
  },
  {
   "cell_type": "code",
   "execution_count": null,
   "metadata": {},
   "outputs": [],
   "source": [
    "eda_bit(0, 10) ➞ [\"EdaBit\", 1, 2, \"Eda\", 4, \"Bit\", \"Eda\", 7, 8, \"Eda\", \"Bit\" ]\n",
    "\n",
    "eda_bit(14, 20) ➞ [14,  \"EdaBit\", 16, 17,  \"Eda\", 19, \"Bit\" ]\n",
    "\n",
    "eda_bit(99, 106) ➞ [\"Eda\", \"Bit\", 101, \"Eda\", 103, 104, \"EdaBit\", 106 ]"
   ]
  },
  {
   "cell_type": "code",
   "execution_count": 62,
   "metadata": {},
   "outputs": [
    {
     "data": {
      "text/plain": [
       "10"
      ]
     },
     "execution_count": 62,
     "metadata": {},
     "output_type": "execute_result"
    }
   ],
   "source": [
    "def cars(wheels, bodies, figures):\n",
    "    return min(wheels//4, bodies, figures//2)\n",
    "    \n",
    "cars(43, 15, 87)"
   ]
  },
  {
   "cell_type": "code",
   "execution_count": 92,
   "metadata": {},
   "outputs": [
    {
     "data": {
      "text/plain": [
       "[1, 3, 4, 6]"
      ]
     },
     "execution_count": 92,
     "metadata": {},
     "output_type": "execute_result"
    }
   ],
   "source": [
    "def index_of_caps(word):\n",
    "    return [word.index(i) for i in word if i.isupper()]\n",
    "    #   return [index for index, letter in enumerate(word) if letter.isupper()]\n",
    "\n",
    "index_of_caps(\"eQuINoX\")"
   ]
  },
  {
   "cell_type": "code",
   "execution_count": 93,
   "metadata": {},
   "outputs": [
    {
     "data": {
      "text/plain": [
       "[(0, 'e'), (1, 'Q'), (2, 'u'), (3, 'I'), (4, 'N'), (5, 'o'), (6, 'X')]"
      ]
     },
     "execution_count": 93,
     "metadata": {},
     "output_type": "execute_result"
    }
   ],
   "source": [
    "a = \"eQuINoX\"\n",
    "list(enumerate(a))"
   ]
  },
  {
   "cell_type": "code",
   "execution_count": 13,
   "metadata": {},
   "outputs": [
    {
     "data": {
      "text/plain": [
       "0.77"
      ]
     },
     "execution_count": 13,
     "metadata": {},
     "output_type": "execute_result"
    }
   ],
   "source": [
    "def unique(lst):\n",
    "    return [i for i in lst if lst.count(i) == 1][0]\n",
    "    # return min(unique, key= lst.count())\n",
    "\n",
    "unique([0, 0, 0.77, 0, 0])"
   ]
  },
  {
   "cell_type": "code",
   "execution_count": 27,
   "metadata": {},
   "outputs": [
    {
     "data": {
      "text/plain": [
       "False"
      ]
     },
     "execution_count": 27,
     "metadata": {},
     "output_type": "execute_result"
    }
   ],
   "source": [
    "def circle_or_square(rad, area):\n",
    "    return math.pi*2*rad > math.sqrt(area)*4\n",
    "circle_or_square(5, 100)"
   ]
  },
  {
   "cell_type": "code",
   "execution_count": 58,
   "metadata": {},
   "outputs": [
    {
     "data": {
      "text/plain": [
       "'second'"
      ]
     },
     "execution_count": 58,
     "metadata": {},
     "output_type": "execute_result"
    }
   ],
   "source": [
    "def are_true(a, b):\n",
    "    return 'both' if a==True and b==a else 'first' if a==True and b!=a  else 'second' if b==True and a!=b else 'neither'\n",
    "are_true(False,True)\n",
    "\n",
    "#def are_true(a, b):\n",
    "#    return {(1,1): 'both', (0,0): 'neither',\n",
    "#           (1,0): 'first', (0,1): 'second'}[a, b]\n",
    "\n",
    "#def are_true(a, b):\n",
    "#    return 'both' if a and b else 'first' if a else 'second' if b else 'neither'"
   ]
  },
  {
   "cell_type": "code",
   "execution_count": 84,
   "metadata": {},
   "outputs": [
    {
     "data": {
      "text/plain": [
       "27"
      ]
     },
     "execution_count": 84,
     "metadata": {},
     "output_type": "execute_result"
    }
   ],
   "source": [
    "def war_of_numbers(lst):\n",
    "    a = [sum([i for i in lst if i%2 != 0]),sum([i for i in lst if i%2 == 0])]\n",
    "    return max(a)-min(a)\n",
    "\n",
    "war_of_numbers([12,  90,  75])\n",
    "\n",
    "#war_of_numbers([5, 9, 45, 6, 2, 7, 34, 8, 6, 90, 5, 243]) ➞ 168"
   ]
  },
  {
   "cell_type": "code",
   "execution_count": 92,
   "metadata": {},
   "outputs": [
    {
     "data": {
      "text/plain": [
       "False"
      ]
     },
     "execution_count": 92,
     "metadata": {},
     "output_type": "execute_result"
    }
   ],
   "source": [
    "def is_in_order(txt):\n",
    "    return list(txt)==sorted(txt)\n",
    "is_in_order(\"edabit\")\n",
    "\n",
    "# return txt == \"\".join(sorted(txt))"
   ]
  },
  {
   "cell_type": "code",
   "execution_count": 100,
   "metadata": {},
   "outputs": [
    {
     "data": {
      "text/plain": [
       "True"
      ]
     },
     "execution_count": 100,
     "metadata": {},
     "output_type": "execute_result"
    }
   ],
   "source": [
    "import numpy as np\n",
    "def array_less_than_100(lst):\n",
    "    return np.sum(lst) < 100\n",
    "\n",
    "array_less_than_100([0])"
   ]
  },
  {
   "cell_type": "code",
   "execution_count": 112,
   "metadata": {},
   "outputs": [
    {
     "data": {
      "text/plain": [
       "2.0"
      ]
     },
     "execution_count": 112,
     "metadata": {},
     "output_type": "execute_result"
    }
   ],
   "source": [
    "def sort_word(word):\n",
    "    word = word.split('')\n",
    "    word = list(word.sort())\n",
    "    final_word = ''f\n",
    "    \n",
    "    for char in word\n",
    "        final_word = final_word + char\n",
    "\n",
    "    return final_word\n",
    "\n",
    "  # return ''.join(sorted(list(a)))"
   ]
  },
  {
   "cell_type": "code",
   "execution_count": 163,
   "metadata": {},
   "outputs": [
    {
     "data": {
      "text/plain": [
       "[1, 1, [1, 1]]"
      ]
     },
     "execution_count": 163,
     "metadata": {},
     "output_type": "execute_result"
    }
   ],
   "source": [
    "def clone(lst):\n",
    "\tlst.append(list(lst))\n",
    "\treturn lst\n",
    "clone([1, 1])"
   ]
  },
  {
   "cell_type": "code",
   "execution_count": null,
   "metadata": {},
   "outputs": [],
   "source": [
    "def index_multiplier(lst):\n",
    "    sum([i*j for i,j in enumerate(lst)])\n",
    "    \n",
    "    #return sum([i*lst[i] for i in range(len(lst))])\n",
    "    "
   ]
  },
  {
   "cell_type": "code",
   "execution_count": 67,
   "metadata": {},
   "outputs": [
    {
     "data": {
      "text/plain": [
       "[0.45, 0.32, 0.97, 0.33]"
      ]
     },
     "execution_count": 67,
     "metadata": {},
     "output_type": "execute_result"
    }
   ],
   "source": [
    "def convert_to_decimal(perc):\n",
    "    #return [float(i.strip('%'))/100 for i in perc]\n",
    "    return [float(item[:-1])/100 for item in perc]\n",
    "    \n",
    "convert_to_decimal([\"45%\", \"32%\", \"97%\", \"33%\"])"
   ]
  },
  {
   "cell_type": "code",
   "execution_count": 1,
   "metadata": {},
   "outputs": [
    {
     "data": {
      "text/plain": [
       "'My loves are: E, da and bit.'"
      ]
     },
     "execution_count": 1,
     "metadata": {},
     "output_type": "execute_result"
    }
   ],
   "source": [
    "lst1 = ['friends','John','Joe','Jack']\n",
    "lst2 = ['loves','E','da','bit']\n",
    "lst3 = ['pokemon','Metapod','Magikarp','Unown']\n",
    "\n",
    "'My {} are: {}, {} and {}.'.format(*lst2)"
   ]
  },
  {
   "cell_type": "code",
   "execution_count": 1,
   "metadata": {},
   "outputs": [
    {
     "name": "stdout",
     "output_type": "stream",
     "text": [
      "1\n"
     ]
    }
   ],
   "source": [
    "def calculator(num1, operator, num2):\n",
    "    try:\n",
    "        print(eval(str(num1) + operator + str(num2)))\n",
    "    except:\n",
    "        print(\"Can't divide by 0!\")\n",
    "        \n",
    "calculator(1,\"-\",0)  "
   ]
  },
  {
   "cell_type": "code",
   "execution_count": 90,
   "metadata": {},
   "outputs": [
    {
     "data": {
      "text/plain": [
       "['Apple', 'Google', 'Microsoft']"
      ]
     },
     "execution_count": 90,
     "metadata": {},
     "output_type": "execute_result"
    }
   ],
   "source": [
    "def sort_by_length(lst):\n",
    "    return sorted(lst, key=len)\n",
    "\n",
    "sort_by_length([\"Google\", \"Apple\", \"Microsoft\"])"
   ]
  },
  {
   "cell_type": "code",
   "execution_count": 114,
   "metadata": {},
   "outputs": [
    {
     "data": {
      "text/plain": [
       "0"
      ]
     },
     "execution_count": 114,
     "metadata": {},
     "output_type": "execute_result"
    }
   ],
   "source": [
    "def sum_of_evens(lst):\n",
    "    return sum([j for i in lst for j in i if j%2==0])\n",
    "\n",
    "# sum_of_evens=lambda l:sum(j for i in l for j in i if j%2==0)\n",
    "\n",
    "# return sum(i[j] for i in lst for j in range(len(lst[0])) if not i[j]%2)\n",
    "\n",
    "sum_of_evens([\n",
    "  [1, 1],\n",
    "  [1, 1]\n",
    "])"
   ]
  },
  {
   "cell_type": "code",
   "execution_count": 129,
   "metadata": {},
   "outputs": [
    {
     "data": {
      "text/plain": [
       "[1, 3, 5, 7, 9]"
      ]
     },
     "execution_count": 129,
     "metadata": {},
     "output_type": "execute_result"
    }
   ],
   "source": [
    "def add_indexes(lst):\n",
    "    return [sum(i) for i in list(enumerate(lst))]\n",
    "add_indexes([1, 2, 3, 4, 5])"
   ]
  },
  {
   "cell_type": "code",
   "execution_count": 16,
   "metadata": {},
   "outputs": [
    {
     "data": {
      "text/plain": [
       "'Make me :D'"
      ]
     },
     "execution_count": 16,
     "metadata": {},
     "output_type": "execute_result"
    }
   ],
   "source": [
    "def emotify(txt):\n",
    "    emoti = {'smile':':D',\n",
    "         'grin':':)',\n",
    "         'sad': ':(',\n",
    "         'mad':':P'}\n",
    "    return 'Make me {}'.format(emoti[txt.split(' ')[2]])\n",
    "\n",
    "    #for k, v in emoti.items():\n",
    "     #  txt = txt.replace(k, v)\n",
    "    #return txt\n",
    "\n",
    "\n",
    "emotify(\"Make me smile\")"
   ]
  },
  {
   "cell_type": "code",
   "execution_count": 26,
   "metadata": {},
   "outputs": [
    {
     "data": {
      "text/plain": [
       "[10, 56, 20, 3]"
      ]
     },
     "execution_count": 26,
     "metadata": {},
     "output_type": "execute_result"
    }
   ],
   "source": [
    "def return_only_integer(lst):\n",
    "    return [i for i in a if type(i) == int]\n",
    "\n",
    "return_only_integer([9, 2, \"space\", \"car\", \"lion\", 16])"
   ]
  },
  {
   "cell_type": "code",
   "execution_count": 65,
   "metadata": {},
   "outputs": [
    {
     "data": {
      "text/plain": [
       "6"
      ]
     },
     "execution_count": 65,
     "metadata": {},
     "output_type": "execute_result"
    }
   ],
   "source": [
    "def trace(lst):\n",
    "    return sum([a[i][i] for i in range(len(lst[0]))])\n",
    "\n",
    "trace([\n",
    "  [1, 2, 3],\n",
    "  [4, 5, 6],\n",
    "  [7, 8, 9]\n",
    "])"
   ]
  },
  {
   "cell_type": "code",
   "execution_count": null,
   "metadata": {},
   "outputs": [],
   "source": []
  },
  {
   "cell_type": "code",
   "execution_count": 6,
   "metadata": {},
   "outputs": [
    {
     "data": {
      "text/plain": [
       "16.7"
      ]
     },
     "execution_count": 6,
     "metadata": {},
     "output_type": "execute_result"
    }
   ],
   "source": [
    "def probability(lst, n):\n",
    "    return round(len([i for i in lst if i >= n])/len(lst)*100,1)\n",
    "\n",
    "probability([7, 4, 17, 14, 12, 3], 16)"
   ]
  },
  {
   "cell_type": "code",
   "execution_count": 64,
   "metadata": {},
   "outputs": [
    {
     "data": {
      "text/plain": [
       "[66, 11, 8, 7]"
      ]
     },
     "execution_count": 64,
     "metadata": {},
     "output_type": "execute_result"
    }
   ],
   "source": [
    "def asc_des_none(lst, s):    \n",
    "    b = {'Asc':0,'Des':1}\n",
    "    return sorted(lst, reverse= b[s]) if s in ['Asc','Des'] else lst\n",
    "\n",
    "# return lst if s == 'None' else sorted(lst, reverse=(s=='Des'))\n",
    "\n",
    "asc_des_none([7, 8, 11, 66], \"Des\")"
   ]
  },
  {
   "cell_type": "code",
   "execution_count": 96,
   "metadata": {},
   "outputs": [
    {
     "data": {
      "text/plain": [
       "True"
      ]
     },
     "execution_count": 96,
     "metadata": {},
     "output_type": "execute_result"
    }
   ],
   "source": [
    "def can_alternate(s):\n",
    "    return abs(a.count('0') - a.count('1')) in [0,1]  and not (len(a) == abs(a.count('0') - a.count('1')))\n",
    "\n",
    "can_alternate(\"010001\")"
   ]
  },
  {
   "cell_type": "code",
   "execution_count": 47,
   "metadata": {},
   "outputs": [
    {
     "data": {
      "text/plain": [
       "\"W'r gnn bld  wll!\""
      ]
     },
     "execution_count": 47,
     "metadata": {},
     "output_type": "execute_result"
    }
   ],
   "source": [
    "def remove_vowels(txt):\n",
    "    return ''.join([i for i in txt if i not in 'AEIOUaeiou'])\n",
    "    #return txt.translate({ord(c):'' for c in 'aeiouAEIOU'})\n",
    "remove_vowels(\"We're gonna build a wall!\")"
   ]
  },
  {
   "cell_type": "code",
   "execution_count": 73,
   "metadata": {},
   "outputs": [
    {
     "data": {
      "text/plain": [
       "True"
      ]
     },
     "execution_count": 73,
     "metadata": {},
     "output_type": "execute_result"
    }
   ],
   "source": [
    "def is_anagram(s1, s2):\n",
    "    return sorted(s1.lower()) == sorted(s2.lower())\n",
    "\n",
    "is_anagram(\"cristian\", \"Cristina\")"
   ]
  },
  {
   "cell_type": "code",
   "execution_count": 93,
   "metadata": {},
   "outputs": [
    {
     "data": {
      "text/plain": [
       "False"
      ]
     },
     "execution_count": 93,
     "metadata": {},
     "output_type": "execute_result"
    }
   ],
   "source": [
    "def is_isogram(txt):\n",
    "    return len(list(txt)) == len(set(txt.lower()))\n",
    "\n",
    "is_isogram(\"Consecutive\")"
   ]
  },
  {
   "cell_type": "code",
   "execution_count": 114,
   "metadata": {},
   "outputs": [],
   "source": [
    "def print_all_groups():\n",
    "    return ', '.join([str(num)+lett for num in range(1,7) for lett in 'abcde'])"
   ]
  },
  {
   "cell_type": "code",
   "execution_count": 28,
   "metadata": {},
   "outputs": [
    {
     "data": {
      "text/plain": [
       "'Edabit can be addictive!'"
      ]
     },
     "execution_count": 28,
     "metadata": {},
     "output_type": "execute_result"
    }
   ],
   "source": [
    "import re\n",
    "txt = \"242Edabit2345can3443be3254324addictive!\"\n",
    "pattern = '\\D+'\n",
    "\n",
    "\" \".join(re.findall(pattern, txt)) # \"Edabit can be addictive!\""
   ]
  },
  {
   "cell_type": "code",
   "execution_count": 84,
   "metadata": {},
   "outputs": [
    {
     "data": {
      "text/plain": [
       "True"
      ]
     },
     "execution_count": 84,
     "metadata": {},
     "output_type": "execute_result"
    }
   ],
   "source": [
    "def is_subset(lst1, lst2):\n",
    "    return sorted([i for i in lst2 if i in lst1]) == sorted(lst1)\n",
    "    # retunr set(a) <= set(b)\n",
    "    # return all([i in b for i in a])\n",
    "is_subset([1, 3], [3, 5, 9, 1])"
   ]
  },
  {
   "cell_type": "code",
   "execution_count": 197,
   "metadata": {},
   "outputs": [
    {
     "data": {
      "text/plain": [
       "[5]"
      ]
     },
     "execution_count": 197,
     "metadata": {},
     "output_type": "execute_result"
    }
   ],
   "source": [
    "def nth_smallest(lst, n):\n",
    "    return [j for i,j in enumerate(sorted(lst)) if i+1 == n]\n",
    "\n",
    "nth_smallest([1, 3, 5, 7], 3)"
   ]
  },
  {
   "cell_type": "code",
   "execution_count": 207,
   "metadata": {},
   "outputs": [
    {
     "data": {
      "text/plain": [
       "[True, False, False, False]"
      ]
     },
     "execution_count": 207,
     "metadata": {},
     "output_type": "execute_result"
    }
   ],
   "source": [
    "def one_list(lst):\n",
    "    return [j for i in lst for j in i]\n",
    "    # return lst[0]+lst[1]\n",
    "one_list([[True, False], [False, False]]) "
   ]
  },
  {
   "cell_type": "code",
   "execution_count": 21,
   "metadata": {},
   "outputs": [
    {
     "data": {
      "text/plain": [
       "'f'"
      ]
     },
     "execution_count": 21,
     "metadata": {},
     "output_type": "execute_result"
    }
   ],
   "source": [
    "def which_is_larger(f, g):\n",
    "    return 'neither' if f() == g() else 'g' if f() < g() else 'f'\n",
    "\n",
    "which_is_larger(lambda: 505050, lambda: 5050)"
   ]
  },
  {
   "cell_type": "code",
   "execution_count": 57,
   "metadata": {},
   "outputs": [
    {
     "data": {
      "text/plain": [
       "'toffee'"
      ]
     },
     "execution_count": 57,
     "metadata": {},
     "output_type": "execute_result"
    }
   ],
   "source": [
    "def halloween(dt):\n",
    "    return 'Bonfire toffee' if dt[-5:] == '10/31' else 'toffee'\n",
    "    # return 'Bonfire toffee' if dt.endswith('10/31') else 'toffee'\n",
    "halloween(\"2012/07/31\")"
   ]
  },
  {
   "cell_type": "code",
   "execution_count": 64,
   "metadata": {},
   "outputs": [
    {
     "data": {
      "text/plain": [
       "(2013, 10, 31)"
      ]
     },
     "execution_count": 64,
     "metadata": {},
     "output_type": "execute_result"
    }
   ],
   "source": [
    "a = \"2013/10/31\"\n",
    "\n",
    "b = tuple([int(i) for i in a.split('/')])\n"
   ]
  },
  {
   "cell_type": "code",
   "execution_count": 99,
   "metadata": {},
   "outputs": [
    {
     "data": {
      "text/plain": [
       "[1, 2, 3, 40, 5, 6, 7, 80, 9, 10, 11, 120]"
      ]
     },
     "execution_count": 99,
     "metadata": {},
     "output_type": "execute_result"
    }
   ],
   "source": [
    "def amplify(num):\n",
    "    return [x*10 if x%4 == 0 else x for x in range(1,num+1)]\n",
    "    #lst = []\n",
    "    #for i in range(1,amplify+1):\n",
    "     #   if i%4 != 0:\n",
    "      #      lst.append(i)\n",
    "       # else:\n",
    "        #    lst.append(i*10)\n",
    "    #return lst\n",
    "    \n",
    "amplify(12)"
   ]
  },
  {
   "cell_type": "code",
   "execution_count": null,
   "metadata": {},
   "outputs": [],
   "source": [
    "class Rectangle:\n",
    "\n",
    "\tdef __init__(self, sideA=0, sideB=0):\n",
    "\t\tself.sideA = sideA\n",
    "\t\tself.sideB = sideB\n",
    "\n",
    "\tdef getArea(self):\n",
    "\t\treturn self.sideA * self.sideB\n",
    "  \n",
    "\tdef getPerimeter(self):\n",
    "\t\treturn 2 * (self.sideA + self.sideB)\n",
    "\n",
    "class Circle:"
   ]
  },
  {
   "cell_type": "code",
   "execution_count": null,
   "metadata": {},
   "outputs": [],
   "source": [
    "circy = Circle(11)\n",
    "circy.getArea()\n",
    "\n",
    "# Should return 380.132711084365\n",
    "\n",
    "circy = Circle(4.44)\n",
    "circy.getPerimeter()\n",
    "\n",
    "# Should return 27.897342763877365"
   ]
  },
  {
   "cell_type": "code",
   "execution_count": 49,
   "metadata": {},
   "outputs": [
    {
     "data": {
      "text/plain": [
       "'Forgetfulness'"
      ]
     },
     "execution_count": 49,
     "metadata": {},
     "output_type": "execute_result"
    }
   ],
   "source": [
    "def longest_word(s):\n",
    "    return max(s.split(' '), key=len)\n",
    "    # 1- lst = a.split(' ')\n",
    "    # 2- [k for k in lst if len(k) == max([len(i) for i in lst])][0]\n",
    "\n",
    "longest_word(\"Forgetfulness is by all means powerless!\")"
   ]
  },
  {
   "cell_type": "code",
   "execution_count": 60,
   "metadata": {},
   "outputs": [
    {
     "data": {
      "text/plain": [
       "-128"
      ]
     },
     "execution_count": 60,
     "metadata": {},
     "output_type": "execute_result"
    }
   ],
   "source": [
    "def shift_to_left(x, y):\n",
    "    return x * pow(2,y)\n",
    "\n",
    "shift_to_left(-32, 2)"
   ]
  },
  {
   "cell_type": "code",
   "execution_count": 83,
   "metadata": {},
   "outputs": [
    {
     "data": {
      "text/plain": [
       "5"
      ]
     },
     "execution_count": 83,
     "metadata": {},
     "output_type": "execute_result"
    }
   ],
   "source": [
    "def count():\n",
    "    return len(str(abs(n)))\n",
    "    #return len([i for i in str(n).strip('-')])\n",
    "\n",
    "count(-92563)"
   ]
  },
  {
   "cell_type": "code",
   "execution_count": 105,
   "metadata": {},
   "outputs": [
    {
     "data": {
      "text/plain": [
       "2"
      ]
     },
     "execution_count": 105,
     "metadata": {},
     "output_type": "execute_result"
    }
   ],
   "source": [
    "def num_args(*args):\n",
    "    return len(args)\n",
    "\n",
    "num_args(True, False)"
   ]
  },
  {
   "cell_type": "code",
   "execution_count": 30,
   "metadata": {},
   "outputs": [
    {
     "data": {
      "text/plain": [
       "11"
      ]
     },
     "execution_count": 30,
     "metadata": {},
     "output_type": "execute_result"
    }
   ],
   "source": [
    "def sum_fractions(lst):\n",
    "    return math.floor(sum([i[0]/i[1] for i in a]))\n",
    "    #return round(sum(n/d for n, d in lst))\n",
    "    \n",
    "sum_fractions([[11, 2], [3, 4], [5, 4], [21, 11], [12, 6]])"
   ]
  },
  {
   "cell_type": "code",
   "execution_count": 51,
   "metadata": {},
   "outputs": [
    {
     "data": {
      "text/plain": [
       "'Hello Frank, Hello Angela, Hello Joe'"
      ]
     },
     "execution_count": 51,
     "metadata": {},
     "output_type": "execute_result"
    }
   ],
   "source": [
    "def greet_people(names):\n",
    "    return ', '.join(['Hello {}'.format(i) for i in names])\n",
    "    # return ', '.join(['Hello ' + i for i in n])\n",
    "    \n",
    "greet_people([\"Frank\", \"Angela\", \"Joe\"])"
   ]
  },
  {
   "cell_type": "code",
   "execution_count": 20,
   "metadata": {},
   "outputs": [
    {
     "data": {
      "text/plain": [
       "14796"
      ]
     },
     "execution_count": 20,
     "metadata": {},
     "output_type": "execute_result"
    }
   ],
   "source": [
    "def profit(info):\n",
    "    return round(info.get('sell_price')*info.get('inventory') - info.get('cost_price')*info.get('inventory'))\n",
    "\n",
    "profit({\"cost_price\": 32.67,\"sell_price\": 45.00,\"inventory\": 1200})"
   ]
  },
  {
   "cell_type": "code",
   "execution_count": 38,
   "metadata": {},
   "outputs": [],
   "source": [
    "class Circle:\n",
    "    import math\n",
    "    def __init__(self, radius):\n",
    "        self.radius = radius\n",
    "    \n",
    "    def getPerimeter(self):\n",
    "        return self.radius*2*math.pi\n",
    "    \n",
    "    def getArea(self):\n",
    "        return math.pi*self.radius**2\n",
    "        "
   ]
  },
  {
   "cell_type": "code",
   "execution_count": 37,
   "metadata": {},
   "outputs": [
    {
     "data": {
      "text/plain": [
       "27.897342763877365"
      ]
     },
     "execution_count": 37,
     "metadata": {},
     "output_type": "execute_result"
    }
   ],
   "source": [
    "circy = Circle(4.44)\n",
    "circy.getPerimeter()\n"
   ]
  },
  {
   "cell_type": "code",
   "execution_count": 48,
   "metadata": {},
   "outputs": [
    {
     "data": {
      "text/plain": [
       "'tie'"
      ]
     },
     "execution_count": 48,
     "metadata": {},
     "output_type": "execute_result"
    }
   ],
   "source": [
    "def showdown(p1, p2):\n",
    "    return 'p1' if p1.index('B') < p2.index('B') else 'p2' if p1.index('B') > p2.index('B') else 'tie'\n",
    "\n",
    "\n",
    "showdown(\n",
    "  \"     Bang!   \",\n",
    "  \"     Bang!   \"\n",
    ")"
   ]
  },
  {
   "cell_type": "code",
   "execution_count": 80,
   "metadata": {},
   "outputs": [
    {
     "data": {
      "text/plain": [
       "{'piano': 500, 'Brutus': 400}"
      ]
     },
     "execution_count": 80,
     "metadata": {},
     "output_type": "execute_result"
    }
   ],
   "source": [
    "def add_name(obj, name, value):\n",
    "    obj[name] = value\n",
    "    return obj\n",
    "    #obj.update([(name,value)])\n",
    "    #return obj\n",
    "\n",
    "add_name({ \"piano\": 500 }, \"Brutus\", 400)"
   ]
  },
  {
   "cell_type": "code",
   "execution_count": 12,
   "metadata": {},
   "outputs": [
    {
     "data": {
      "text/plain": [
       "[12, 24, 36, 48, 60, 72, 84, 96, 108, 120]"
      ]
     },
     "execution_count": 12,
     "metadata": {},
     "output_type": "execute_result"
    }
   ],
   "source": [
    "def list_of_multiples (num, length):\n",
    "    return [i * num for i in range(1,length+1)]\n",
    "\n",
    "list_of_multiples(12, 10)"
   ]
  },
  {
   "cell_type": "code",
   "execution_count": 31,
   "metadata": {},
   "outputs": [
    {
     "data": {
      "text/plain": [
       "[5, 3, 2, 4]"
      ]
     },
     "execution_count": 31,
     "metadata": {},
     "output_type": "execute_result"
    }
   ],
   "source": [
    "def remove_smallest(lst):\n",
    "    if len(lst) != 0:\n",
    "        lst.remove(min(lst))  \n",
    "    else:\n",
    "        []\n",
    "    return lst\n",
    "\n",
    "remove_smallest([5, 3, 2, 1, 4])"
   ]
  },
  {
   "cell_type": "code",
   "execution_count": 81,
   "metadata": {},
   "outputs": [
    {
     "data": {
      "text/plain": [
       "'\"Hi there!\", whispered Edabit.'"
      ]
     },
     "execution_count": 81,
     "metadata": {},
     "output_type": "execute_result"
    }
   ],
   "source": [
    "def shhh(txt):\n",
    "    return '\\\"{}\", {}'.format(a.capitalize(),'whispered Edabit.')\n",
    "\n",
    "shhh(\"HI THERE!\")"
   ]
  },
  {
   "cell_type": "code",
   "execution_count": 82,
   "metadata": {},
   "outputs": [
    {
     "data": {
      "text/plain": [
       "'She looks \"stunningly\" and \"beautifully\"  \"sexy\"!'"
      ]
     },
     "execution_count": 82,
     "metadata": {},
     "output_type": "execute_result"
    }
   ],
   "source": [
    "s = 'She looks \\\"stunningly\\\" and \\\"beautifully\\\"  \\\"sexy\\\"!'\n",
    "s"
   ]
  },
  {
   "cell_type": "code",
   "execution_count": 126,
   "metadata": {},
   "outputs": [
    {
     "data": {
      "text/plain": [
       "True"
      ]
     },
     "execution_count": 126,
     "metadata": {},
     "output_type": "execute_result"
    }
   ],
   "source": [
    "def simon_says(lst1, lst2):\n",
    "    return a[:-1] == b[1:]\n",
    "\n",
    "def simon_says(lst1, lst2):\n",
    "    for i in range(len(lst1)-1):\n",
    "        if lst2[i+1]!=lst1[i]: return False\n",
    "    return True\n",
    "\n",
    "def simon_says(lst1, lst2):\n",
    "    return not any(x - y for x, y in zip(lst1, lst2[1:]))\n",
    "\n",
    "simon_says([1, 2, 3, 4, 5], [0, 1, 2, 3, 4])"
   ]
  },
  {
   "cell_type": "code",
   "execution_count": 25,
   "metadata": {},
   "outputs": [
    {
     "data": {
      "text/plain": [
       "'Invalid Operation'"
      ]
     },
     "execution_count": 25,
     "metadata": {},
     "output_type": "execute_result"
    }
   ],
   "source": [
    "def add(n1, n2):\n",
    "    return int(n1) + int(n2) if len(n1) != 0 and len(n2) != 0 else 'Invalid Operation'\n",
    "\n",
    "add(\"\", \"20\")"
   ]
  },
  {
   "cell_type": "code",
   "execution_count": null,
   "metadata": {},
   "outputs": [],
   "source": [
    "add(\"111\", \"111\") ➞ \"222\"\n",
    "\n",
    "add(\"10\", \"80\") ➞ \"90\"\n",
    "\n",
    "add(\"\", \"20\") ➞ \"Invalid Operation\""
   ]
  },
  {
   "cell_type": "code",
   "execution_count": 18,
   "metadata": {},
   "outputs": [
    {
     "data": {
      "text/plain": [
       "['Invalid Operation']"
      ]
     },
     "execution_count": 18,
     "metadata": {},
     "output_type": "execute_result"
    }
   ],
   "source": [
    "lst1 = \"\"\n",
    "lst2 = \"111\"\n",
    "\n",
    "[int(lst1) + int(lst2) if len(lst1) != 0 and len(lst2) != 0 else 'Invalid Operation']"
   ]
  },
  {
   "cell_type": "code",
   "execution_count": 63,
   "metadata": {},
   "outputs": [],
   "source": [
    "def calculate_score(games):\n",
    "    abigail = []\n",
    "    tom = []\n",
    "    for i,j in games:\n",
    "        if i == j:\n",
    "            abigail.append(0)\n",
    "            tom.append(0)\n",
    "        else:\n",
    "            abigail.append({('R','S'):(1,0),\n",
    "                    ('R','P'):(0,1),\n",
    "                    ('P','S'):(0,1),\n",
    "                    ('S','R'):(0,1),\n",
    "                    ('P','R'):(1,0),\n",
    "                    ('S','P'):(1,0)}[i,j][0])\n",
    "            tom.append({('R','S'):(1,0),\n",
    "                ('R','P'):(0,1),\n",
    "                ('P','S'):(0,1),\n",
    "                ('S','R'):(0,1),\n",
    "                ('P','R'):(1,0),\n",
    "                ('S','P'):(1,0)}[i,j][1])\n",
    "    \n",
    "    return 'Abigail' if sum(tom) < sum(abigail) else 'Benson' if sum(tom) > sum(abigail) else 'Tie'"
   ]
  },
  {
   "cell_type": "code",
   "execution_count": 66,
   "metadata": {},
   "outputs": [
    {
     "data": {
      "text/plain": [
       "'Tie'"
      ]
     },
     "execution_count": 66,
     "metadata": {},
     "output_type": "execute_result"
    }
   ],
   "source": [
    "calculate_score([[\"R\", \"R\"], [\"R\", \"R\"], [\"R\", \"R\"]])"
   ]
  },
  {
   "cell_type": "code",
   "execution_count": null,
   "metadata": {},
   "outputs": [],
   "source": [
    "def calculate_score(array):\n",
    "    Abigail = 0\n",
    "    Benson = 0\n",
    "    for i in range(len(array)):\n",
    "        if (array[i][0] == \"R\" and array[i][1] == \"S\") :Abigail += 1\n",
    "        if (array[i][0] == \"S\" and array[i][1] == \"P\") :Abigail += 1\n",
    "        if (array[i][0] == \"P\" and array[i][1] == \"R\") :Abigail += 1\n",
    "        if (array[i][0] == \"S\" and array[i][1] == \"R\") :Benson += 1\n",
    "        if (array[i][0] == \"P\" and array[i][1] == \"S\") :Benson += 1\n",
    "        if (array[i][0] == \"R\" and array[i][1] == \"P\") :Benson += 1\n",
    "    return 'Tie' if Abigail==Benson else 'Abigail' if Abigail>Benson else 'Benson'\n",
    "\n",
    "def calculate_score(games):\n",
    "\tw = {'R': 'S', 'S': 'P', 'P': 'R'}\n",
    "\ta, b = 0, 0\n",
    "\tfor i in games:\n",
    "\t\tif w[i[0]] == i[1]: a += 1\n",
    "\t\telif w[i[1]] == i[0]: b += 1\n",
    "\treturn 'Abigail' if a > b else 'Benson' if a < b else 'Tie'\n",
    "\n",
    "def calculate_score(games):\n",
    "\td = {'R': 'S', 'P': 'R', 'S': 'P'}\n",
    "\ts = sum(1 if d[A] == B else 0 if A == B else -1 for A, B in games)\n",
    "\treturn 'Abigail' if s > 0 else 'Benson' if s < 0 else 'Tie'"
   ]
  },
  {
   "cell_type": "code",
   "execution_count": null,
   "metadata": {},
   "outputs": [],
   "source": [
    "index_filter([2, 3, 8, 11], \"Autumn in New York\") ➞ \"tune\"\n",
    "\n",
    "index_filter([0, 1, 5, 7, 4, 2], \"Cry me a river\") ➞ \"creamy\"\n",
    "\n",
    "index_filter([9, -9, 2, 27, 36, 6, 5, 13, -1, 2, 0, 30, 2], \n",
    "  \"That's life, I've got you under my skin\") ➞ \"frank sinatra\""
   ]
  },
  {
   "cell_type": "code",
   "execution_count": 83,
   "metadata": {},
   "outputs": [
    {
     "data": {
      "text/plain": [
       "'creamy'"
      ]
     },
     "execution_count": 83,
     "metadata": {},
     "output_type": "execute_result"
    }
   ],
   "source": [
    "def index_filter(indexes, string):\n",
    "    return ''.join([string[i].lower() for i in indexes])\n",
    "\n",
    "index_filter([0, 1, 5, 7, 4, 2], \"Cry me a river\")"
   ]
  },
  {
   "cell_type": "code",
   "execution_count": null,
   "metadata": {},
   "outputs": [],
   "source": [
    "def car_timer(n):\n"
   ]
  },
  {
   "cell_type": "code",
   "execution_count": null,
   "metadata": {},
   "outputs": [],
   "source": [
    "car_timer(240) ➞ 4\n",
    "# 240 minutes have passed since 00:00, the current time is 04:00\n",
    "# Digits sum up is 0 + 4 + 0 + 0 = 4\n",
    "\n",
    "car_timer(808) ➞ 14\n",
    "\n",
    "car_timer(14) ➞ 5"
   ]
  },
  {
   "cell_type": "code",
   "execution_count": 142,
   "metadata": {},
   "outputs": [
    {
     "name": "stdout",
     "output_type": "stream",
     "text": [
      "13:46\n"
     ]
    }
   ],
   "source": [
    "import math \n",
    "\n",
    "def car_timer(n):\n",
    "    return print('{}:{}'.format(math.floor(n/60),str(n/60).split('.')[1][:2]))\n",
    "\n",
    "car_timer(808)"
   ]
  },
  {
   "cell_type": "code",
   "execution_count": 202,
   "metadata": {},
   "outputs": [],
   "source": [
    "def sort_descending(num):\n",
    "    return int(''.join(sorted([i for i in str(num)], reverse=True)))"
   ]
  },
  {
   "cell_type": "code",
   "execution_count": null,
   "metadata": {},
   "outputs": [],
   "source": [
    "sort_descending(123) ➞ 321\n",
    "\n",
    "sort_descending(1254859723) ➞ 9875543221\n",
    "\n",
    "sort_descending(73065) ➞ 76530"
   ]
  },
  {
   "cell_type": "code",
   "execution_count": 204,
   "metadata": {},
   "outputs": [
    {
     "data": {
      "text/plain": [
       "76530"
      ]
     },
     "execution_count": 204,
     "metadata": {},
     "output_type": "execute_result"
    }
   ],
   "source": [
    "sort_descending(73065)"
   ]
  },
  {
   "cell_type": "code",
   "execution_count": 258,
   "metadata": {},
   "outputs": [],
   "source": [
    "def total_sales(sales_table, product):\n",
    "    for i in sales_table[1:]:\n",
    "        if product in sales_table[0]:\n",
    "            return sum([i[lst[0].index(product)] for i in sales_table[1:]])\n",
    "        else:\n",
    "            return 'Product not found'"
   ]
  },
  {
   "cell_type": "code",
   "execution_count": 259,
   "metadata": {},
   "outputs": [
    {
     "data": {
      "text/plain": [
       "'Product not found'"
      ]
     },
     "execution_count": 259,
     "metadata": {},
     "output_type": "execute_result"
    }
   ],
   "source": [
    "total_sales([\n",
    "  [\"A\", \"B\", \"C\"],\n",
    "  [ 2 ,  7 ,  1 ],\n",
    "  [ 3 ,  6 ,  6 ],\n",
    "  [ 4 ,  5 ,  5 ]\n",
    "], \"D\")"
   ]
  },
  {
   "cell_type": "code",
   "execution_count": 264,
   "metadata": {},
   "outputs": [],
   "source": [
    "def sum_odd_and_even(lst):\n",
    "    odd = [j for j in lst if j%2 != 0]\n",
    "    even = [i for i in lst if i%2 == 0]\n",
    "    return sum(odd), sum(even)"
   ]
  },
  {
   "cell_type": "code",
   "execution_count": null,
   "metadata": {},
   "outputs": [],
   "source": [
    "sum_odd_and_even([1, 2, 3, 4, 5, 6]) ➞ [12, 9]\n",
    "# 2 + 4 + 6 = 12 and 1 + 3 + 5 = 9\n",
    "\n",
    "sum_odd_and_even([-1, -2, -3, -4, -5, -6]) ➞ [-12, -9])\n",
    "\n",
    "sum_odd_and_even([0, 0]) ➞ [0, 0]"
   ]
  },
  {
   "cell_type": "code",
   "execution_count": 267,
   "metadata": {},
   "outputs": [
    {
     "data": {
      "text/plain": [
       "(0, 0)"
      ]
     },
     "execution_count": 267,
     "metadata": {},
     "output_type": "execute_result"
    }
   ],
   "source": [
    "sum_odd_and_even([0, 0])"
   ]
  },
  {
   "cell_type": "code",
   "execution_count": 40,
   "metadata": {},
   "outputs": [
    {
     "data": {
      "text/plain": [
       "'enO owt eerht four'"
      ]
     },
     "execution_count": 40,
     "metadata": {},
     "output_type": "execute_result"
    }
   ],
   "source": [
    "def reverse_odd(txt):\n",
    "    return ' '.join([i[::-1] if len(i)%2 != 0 else i for i in txt.split(' ')])\n",
    "\n",
    "reverse_odd(\"One two three four\")"
   ]
  },
  {
   "cell_type": "code",
   "execution_count": 193,
   "metadata": {},
   "outputs": [],
   "source": [
    "def find_nemo(sentence):\n",
    "    return 'I found Nemo at {}!'.format(sentence.split(' ').index('Nemo')+1) if 'Nemo' in sentence.split(' ')else \"I can't find Nemo :(\"\n",
    "\n",
    "def find_nemo(sentence):\n",
    "    for idx, i in enumerate(sentence.split(), 1):\n",
    "        if i == 'Nemo':\n",
    "            return \"I found Nemo at {}!\".format(idx)\n",
    "    return \"I can't find Nemo :(\""
   ]
  },
  {
   "cell_type": "code",
   "execution_count": 196,
   "metadata": {},
   "outputs": [
    {
     "data": {
      "text/plain": [
       "'I found Nemo at 4!'"
      ]
     },
     "execution_count": 196,
     "metadata": {},
     "output_type": "execute_result"
    }
   ],
   "source": [
    "find_nemo(\"I am finding Nemo !\")"
   ]
  },
  {
   "cell_type": "code",
   "execution_count": 81,
   "metadata": {},
   "outputs": [],
   "source": [
    "import regex as re\n",
    "\n",
    "def correct_title(txt):\n",
    "    lst = []\n",
    "    lst_1 = []\n",
    "    \n",
    "    for i in re.split('([-])', txt):\n",
    "        if i.lower() not in ['and', 'the', 'of', 'in']:\n",
    "            lst.append(i.capitalize())\n",
    "        else:\n",
    "            lst.append(i.lower())\n",
    "        \n",
    "    for j in ''.join(lst).split(' '):\n",
    "        if j not in ['and', 'the', 'of', 'in']:\n",
    "            lst_1.append(j[0].upper()+j[1:])\n",
    "        else:\n",
    "            lst_1.append(j.lower())\n",
    "    return ' '.join(lst_1)"
   ]
  },
  {
   "cell_type": "code",
   "execution_count": null,
   "metadata": {},
   "outputs": [],
   "source": [
    "def correct_title(txt):\n",
    "    txt = txt.title()\n",
    "    for val in [\"And \", \"The\", \"Of\", \"In\", \"'S\"]:\n",
    "        txt = txt.replace(val, val.lower())\n",
    "    return txt"
   ]
  },
  {
   "cell_type": "code",
   "execution_count": 1,
   "metadata": {},
   "outputs": [],
   "source": [
    "import re\n",
    "def correct_title(txt):\n",
    "    return ''.join([w if w in ['and','the','of','in'] else w.capitalize() for w in re.split('([ -])',txt.lower())])"
   ]
  },
  {
   "cell_type": "code",
   "execution_count": null,
   "metadata": {},
   "outputs": [],
   "source": [
    "correct_title(\"jOn SnoW, kINg IN thE noRth.\")\n",
    "➞ \"Jon Snow, King in the North.\"\n",
    "\n",
    "correct_title(\"sansa stark, lady of winterfell.\")\n",
    "➞ \"Sansa Stark, Lady of Winterfell.\"\n",
    "\n",
    "correct_title(\"TYRION LANNISTER, HAND OF THE QUEEN.\")\n",
    "➞ \"Tyrion Lannister, Hand of the Queen.\""
   ]
  },
  {
   "cell_type": "code",
   "execution_count": 82,
   "metadata": {},
   "outputs": [
    {
     "data": {
      "text/plain": [
       "'Mance Rayder, King-Beyond-the-Wall.'"
      ]
     },
     "execution_count": 82,
     "metadata": {},
     "output_type": "execute_result"
    }
   ],
   "source": [
    "correct_title('Mance Rayder, King-Beyond-The-Wall.')"
   ]
  },
  {
   "cell_type": "code",
   "execution_count": 26,
   "metadata": {},
   "outputs": [],
   "source": [
    "# Write a function that takes coordinates of two points on a two-dimensional plane and returns\n",
    "# the length of the line segment connecting those two points.\n",
    "\n",
    "import math\n",
    "def line_length(dot1, dot2):\n",
    "    return round(math.sqrt(sum([(i-j)**2 for i,j in zip(dot2, dot1)])),2)"
   ]
  },
  {
   "cell_type": "code",
   "execution_count": null,
   "metadata": {},
   "outputs": [],
   "source": [
    "line_length([15, 7], [22, 11]) ➞ 8.06\n",
    "\n",
    "line_length([0, 0], [0, 0]) ➞ 0\n",
    "\n",
    "line_length([0, 0], [1, 1]) ➞ 1.41"
   ]
  },
  {
   "cell_type": "code",
   "execution_count": 36,
   "metadata": {},
   "outputs": [],
   "source": [
    "def quadratic_equation(a, b, c):\n",
    "    return (-b + math.sqrt(b**2 - 4*a*c))/(2*a)"
   ]
  },
  {
   "cell_type": "code",
   "execution_count": null,
   "metadata": {},
   "outputs": [],
   "source": [
    "quadratic_equation(1, 2, -3) ➞ 1\n",
    "\n",
    "quadratic_equation(2, -7, 3) ➞ 3\n",
    "\n",
    "quadratic_equation(1, -12, -28) ➞ 14"
   ]
  },
  {
   "cell_type": "code",
   "execution_count": 43,
   "metadata": {},
   "outputs": [],
   "source": [
    "def area_of_country(name, area):\n",
    "    return \"{} is {:.2f}% of the total world's landmass\".format(name, area/148940000*100)"
   ]
  },
  {
   "cell_type": "code",
   "execution_count": null,
   "metadata": {},
   "outputs": [],
   "source": [
    "area_of_country(\"Russia\", 17098242) ➞ \"Russia is 11.48% of the total world's landmass\"\n",
    "\n",
    "area_of_country(\"USA\", 9372610), \"USA is 6.29% of the total world's landmass\"\n",
    "\n",
    "area_of_country(\"Iran\", 1648195) ➞ \"Iran is 1.11% of the total world's landmass\""
   ]
  },
  {
   "cell_type": "code",
   "execution_count": 162,
   "metadata": {},
   "outputs": [],
   "source": [
    "import numpy as np\n",
    "\n",
    "def is_magic_square(square):\n",
    "    h = []\n",
    "    v = []\n",
    "    n_d = []\n",
    "    i_d = []\n",
    "    square = np.array(square)\n",
    "    \n",
    "    for i in range(len(square)):\n",
    "        h.append(sum(square[i]))\n",
    "        v.append(square.transpose()[i].sum())\n",
    "        n_d.append(square[i][i])\n",
    "        i_d.append(square[i][::-1][i])\n",
    "    \n",
    "    return len(set(np.concatenate((list(set(h)),list(set(v)),sum(n_d),sum(i_d)), axis=None))) == 1"
   ]
  },
  {
   "cell_type": "code",
   "execution_count": null,
   "metadata": {},
   "outputs": [],
   "source": [
    "is_magic_square([\n",
    "  [8, 1, 6],\n",
    "  [3, 5, 7],\n",
    "  [4, 9, 2]\n",
    "]) ➞ True\n",
    "\n",
    "is_magic_square([\n",
    "  [16,  3,  2, 13],\n",
    "  [ 5, 10, 11,  8],\n",
    "  [ 9,  6,  7, 12],\n",
    "  [ 4, 15, 14,  1]\n",
    "]) ➞ True\n",
    "\n",
    "is_magic_square([\n",
    "  [1, 2, 3],\n",
    "  [4, 5, 6],\n",
    "  [7, 8, 9]\n",
    "]) ➞ False"
   ]
  },
  {
   "cell_type": "code",
   "execution_count": 166,
   "metadata": {},
   "outputs": [
    {
     "data": {
      "text/plain": [
       "False"
      ]
     },
     "execution_count": 166,
     "metadata": {},
     "output_type": "execute_result"
    }
   ],
   "source": [
    "is_magic_square([\n",
    "  [1, 2, 3],\n",
    "  [4, 5, 6],\n",
    "  [7, 8, 9]\n",
    "])"
   ]
  },
  {
   "cell_type": "code",
   "execution_count": 8,
   "metadata": {},
   "outputs": [],
   "source": [
    "def number_length(num):\n",
    "    return sum([1 for i in str(num)])"
   ]
  },
  {
   "cell_type": "code",
   "execution_count": null,
   "metadata": {},
   "outputs": [],
   "source": [
    "number_length(10) ➞ 2\n",
    "\n",
    "number_length(5000) ➞ 4\n",
    "\n",
    "number_length(0) ➞ 1"
   ]
  },
  {
   "cell_type": "code",
   "execution_count": 27,
   "metadata": {},
   "outputs": [],
   "source": [
    "def combinations(*items):\n",
    "    lst = 1\n",
    "    for i in range(len(items)):\n",
    "        lst = lst*items[i]\n",
    "    return lst"
   ]
  },
  {
   "cell_type": "code",
   "execution_count": null,
   "metadata": {},
   "outputs": [],
   "source": [
    "combinations(2, 3) ➞ 6\n",
    "\n",
    "combinations(3, 7, 4) ➞ 84\n",
    "\n",
    "combinations(2, 3, 4, 5) ➞ 120"
   ]
  },
  {
   "cell_type": "code",
   "execution_count": 99,
   "metadata": {},
   "outputs": [],
   "source": [
    "def bonus(days):\n",
    "    if days > 48:\n",
    "        money = [(days-48)*600, (48-40)*550, (40-32)*325]\n",
    "    elif 40 < days <= 48:\n",
    "        money = [(days-40)*550, (40-32)*325]\n",
    "    elif 32 < days <= 40:\n",
    "        money = [(days-32)*325]\n",
    "    else:\n",
    "        money = []\n",
    "    return sum(money)"
   ]
  },
  {
   "cell_type": "code",
   "execution_count": null,
   "metadata": {},
   "outputs": [],
   "source": [
    "Days\tBonus\n",
    "0 to 32 days\tZero\n",
    "33 to 40 days\tSGD$325 per billable day\n",
    "41 to 48 days\tSGD$550 per billable day\n",
    "Greater than 48 days\tSGD$600 per billable day\n",
    "\n",
    "32*0 + 8*325 + 5*550 = 5350\n",
    "\n",
    "bonus(15) ➞ 0\n",
    "\n",
    "bonus(37) ➞ 1625\n",
    "\n",
    "bonus(50) ➞ 8200"
   ]
  },
  {
   "cell_type": "code",
   "execution_count": 103,
   "metadata": {},
   "outputs": [
    {
     "data": {
      "text/plain": [
       "5350"
      ]
     },
     "execution_count": 103,
     "metadata": {},
     "output_type": "execute_result"
    }
   ],
   "source": [
    "bonus(45)"
   ]
  },
  {
   "cell_type": "code",
   "execution_count": 94,
   "metadata": {},
   "outputs": [],
   "source": []
  },
  {
   "cell_type": "code",
   "execution_count": null,
   "metadata": {},
   "outputs": [],
   "source": []
  },
  {
   "cell_type": "code",
   "execution_count": null,
   "metadata": {},
   "outputs": [],
   "source": []
  },
  {
   "cell_type": "code",
   "execution_count": null,
   "metadata": {},
   "outputs": [],
   "source": []
  },
  {
   "cell_type": "code",
   "execution_count": null,
   "metadata": {},
   "outputs": [],
   "source": []
  }
 ],
 "metadata": {
  "kernelspec": {
   "display_name": "Python 3",
   "language": "python",
   "name": "python3"
  },
  "language_info": {
   "codemirror_mode": {
    "name": "ipython",
    "version": 3
   },
   "file_extension": ".py",
   "mimetype": "text/x-python",
   "name": "python",
   "nbconvert_exporter": "python",
   "pygments_lexer": "ipython3",
   "version": "3.8.3"
  }
 },
 "nbformat": 4,
 "nbformat_minor": 4
}
